{
 "cells": [
  {
   "cell_type": "markdown",
   "id": "a8ed868f",
   "metadata": {},
   "source": [
    "# Day 1\n",
    "## MLP\n",
    "* Build intuition by coding an MLP without frameworks. \n",
    "* Lock in tensor shapes and loss definitions. "
   ]
  },
  {
   "cell_type": "markdown",
   "id": "26c1e144",
   "metadata": {},
   "source": [
    "### Task\n",
    "1. Implement a 2-layer MLP (D -> H -> C) with ReLU and softmax (NumPy)\n",
    "2. Write cross_entropy and softmax logits (stable version: shift by max)\n",
    "3. Ad L2 regularization to the loss. \n",
    "\n",
    "**Checks**\n",
    "* Unit test: feed a tiny batch with hand-computed outputs\n",
    "* Verify that loss decreases with a single manual gradient step\n",
    "* Derive backprop."
   ]
  },
  {
   "cell_type": "code",
   "execution_count": null,
   "id": "c394f830",
   "metadata": {},
   "outputs": [],
   "source": [
    "import numpy as np\n",
    "from utils import ReLU, softmax, cross_entropy\n",
    "\n",
    "class MLP:\n",
    "    \"\"\"A simple 2-layer Multi-Layer Perceptron (MLP) class.\"\"\"\n",
    "\n",
    "    def __init__(self, D, H, C, W1=None, b1=None, W2=None, b2=None, dtype=np.float32, seed=None) -> None: # noqa: PLR0913\n",
    "        \"\"\"Initialize the MLP with given dimensions and optional weights and biases.\n",
    "\n",
    "        Args:\n",
    "            D (_type_): Data input nodes. \n",
    "            H (_type_): Hidden nodes.\n",
    "            C (_type_): Number of concents. One-hot encoded output. \n",
    "            W1 (_type_, optional): _description_. Defaults to None.\n",
    "            b1 (_type_, optional): _description_. Defaults to None.\n",
    "            W2 (_type_, optional): _description_. Defaults to None.\n",
    "            b2 (_type_, optional): _description_. Defaults to None.\n",
    "\n",
    "        \"\"\"\n",
    "        self.D, self.H, self.C = D, H, C\n",
    "        self.dtype = dtype\n",
    "\n",
    "        if seed is not None:\n",
    "            rng = np.random.default_rng(seed)\n",
    "            def randn(*s) -> np.ndarray:\n",
    "                \"\"\"Generate random numbers with the specified shape and dtype.\"\"\"\n",
    "                return rng.standard_normal(size=s).astype(dtype)\n",
    "        else:\n",
    "            def randn(*s) -> np.ndarray:\n",
    "                \"\"\"Generate random numbers with the specified shape and dtype.\"\"\"\n",
    "                return np.random.randn(*s).astype(dtype)\n",
    "\n",
    "        # He init \n",
    "        self.W1 = W1.astype(dtype) if W1 is not None else randn(D, H) * np.sqrt(2.0 / D)\n",
    "        self.b1 = b1.astype(dtype) if b1 is not None else np.zeros(H, dtype=dtype)\n",
    "        self.W2 = W2.astype(dtype) if W2 is not None else randn(H, C) * np.sqrt(2.0 / H)\n",
    "        self.b2 = b2.astype(dtype) if b2 is not None else np.zeros(C, dtype=dtype)\n",
    "\n",
    "\n",
    "    def logits(self, X: np.ndarray) -> np.ndarray: # noqa: N803\n",
    "        \"\"\"Compute the logits (raw output) of the MLP.\n",
    "\n",
    "        Args:\n",
    "            X (np.ndarray): Input data.\n",
    "\n",
    "        Returns:\n",
    "            np.ndarray: The logits of the MLP.\n",
    "\n",
    "        \"\"\"\n",
    "        X = X.astype(self.dtype, copy=False)  # Ensure input is in the correct dtype\n",
    "        y1 = X @ self.W1 + self.b1 # (N, H)\n",
    "        y1 = ReLU(y1) # (N, H)\n",
    "        y2 = y1 @ self.W2 + self.b2 # (N, C)\n",
    "        return y2\n",
    "\n",
    "\n",
    "    def forward(self, X) -> np.ndarray:\n",
    "        \"\"\"Forward pass through the MLP.\n",
    "\n",
    "        Args:\n",
    "            X (_type_): _description_\n",
    "\n",
    "        Returns:\n",
    "            _type_: _description_\n",
    "\n",
    "        \"\"\"\n",
    "        return softmax(self.logits(X))\n",
    "\n",
    "    def loss(self, X:np.ndarray, y:np.ndarray, l2: float = 0.0) -> float:\n",
    "        \"\"\"Compute the cross-entropy loss with l2 regularization.\n",
    "\n",
    "        Args:\n",
    "            X (np.ndarray): Input data.\n",
    "            y (np.ndarray): True labels.\n",
    "            l2 (float, optional): L2 regularization strength. Defaults to 0.0.\n",
    "\n",
    "        Returns:\n",
    "            float: The computed loss value.\n",
    "\n",
    "        \"\"\"\n",
    "        z = self.logits(X)\n",
    "        ce = cross_entropy(z, y)\n",
    "        l2_reg = 0.5*l2*(np.sum(self.W1**2) + np.sum(self.W2**2)) # L2 regularization term on weights\n",
    "        return float(ce + l2_reg)\n",
    "\n",
    "    def predict_proba(self, X: np.ndarray) -> np.ndarray:\n",
    "        \"\"\"Predict class probabilities for the input data.\n",
    "\n",
    "        Args:\n",
    "            X (np.ndarray): Input data.\n",
    "\n",
    "        Returns:\n",
    "            np.ndarray: Predicted class probabilities.\n",
    "\n",
    "        \"\"\"\n",
    "        return self.forward(X)/ np.sum(self.forward(X), axis=1, keepdims=True)\n",
    "\n",
    "\n",
    "    def predict(self, X: np.ndarray) -> np.ndarray:\n",
    "        \"\"\"Predict class labels for the input data.\n",
    "\n",
    "        Args:\n",
    "            X (np.ndarray): Input data.\n",
    "\n",
    "        Returns:\n",
    "            np.ndarray: Predicted class labels.\n",
    "\n",
    "        \"\"\"\n",
    "        return np.argmax(self.predict_proba(X), axis=1)\n",
    "\n",
    "\n",
    "    def accuracy(self, X: np.ndarray, y: np.ndarray) -> float:\n",
    "        \"\"\"Compute the accuracy of the model on the given data.\n",
    "\n",
    "        Args:\n",
    "            X (np.ndarray): Input data.\n",
    "            y (np.ndarray): True labels.\n",
    "\n",
    "        Returns:\n",
    "            float: The accuracy of the model.\n",
    "\n",
    "        \"\"\"\n",
    "        y_pred = self.predict(X)\n",
    "        return np.mean(y_pred == y)\n",
    "\n",
    "\n",
    "    def sgd_step(self, X:np.ndarray, y:np.ndarray, lr:float = 1e-2, l2:float = 0.0) -> float: \n",
    "        \"\"\"Perform a single SGD step on a batch (X,y).\n",
    "\n",
    "        Args:\n",
    "            X (np.ndarray): Data\n",
    "            y (np.ndarray): target. Can be (N,) integer labels or (N,C) one hot\n",
    "            lr (float, optional): _description_. Defaults to 1e-2.\n",
    "            l2 (float, optional): _description_. Defaults to 0.0.\n",
    "\n",
    "        Returns: current loss\n",
    "\n",
    "        \"\"\"\n",
    "        N = X.shape[0]\n",
    "        C = self.C \n",
    "\n",
    "        # --- Forward ---\n",
    "        a1 = X@ self.W1 + self.b1\n",
    "        h = ReLU(a1)\n",
    "        z = h @ self.W2 + self.b2\n",
    "\n",
    "        # stable softmax\n",
    "        z_shift = z - z.max(axis=1, keepdims=True)\n",
    "        expz = np.exp(z_shift)\n",
    "        p = expz/expz.sum(axis=1, keepdims=True)\n",
    "\n",
    "        # --- Prepare labels ---\n",
    "        if y.ndim == 1: \n",
    "            y_onehot = np.eye(C, dtype=p.dtype)[y] # (N, C)\n",
    "        elif y.ndim == 2 and y.shape == p.shape: # noqa: PLR2004\n",
    "            y_onehot = y\n",
    "        else: \n",
    "            raise ValueError(\"y most be (N,) ints or (N, C) one-hot.\")\n",
    "\n",
    "        # --- Backprop ---\n",
    "        dz = (p - y_onehot) / N  # <--- softmax derivative? \n",
    "\n",
    "        dW2 = h.T @ dz\n",
    "        db2 = dz.sum(axis=0)\n",
    "\n",
    "        dh = dz @ self.W2.T\n",
    "        da1 = dh * (a1 > 0)\n",
    "\n",
    "        dW1 = X.T @ da1\n",
    "        db1 = da1.sum(axis=0)\n",
    "\n",
    "        if l2 > 0.0: \n",
    "            dW2 += l2*self.W2\n",
    "            dW1 += l2*self.W1\n",
    "\n",
    "\n",
    "        # --- Param update ----\n",
    "        self.W2 -= lr * dW2\n",
    "        self.b2 -= lr * db2\n",
    "        self.W1 -= lr * dW1\n",
    "        self.b1 -= lr * db1\n",
    "\n",
    "        return self.loss(X, y, l2=l2)\n"
   ]
  },
  {
   "cell_type": "markdown",
   "id": "fd181a58",
   "metadata": {},
   "source": [
    "## Tests"
   ]
  },
  {
   "cell_type": "code",
   "execution_count": 28,
   "id": "67d8d67c",
   "metadata": {},
   "outputs": [],
   "source": [
    "mlp = MLP(D=2, H=10, C=2, seed=42)\n",
    "X = np.array([[1,0], [0,1], [1,1], [0,0]])\n",
    "y = np.array([[1,0], [1,0], [0,1], [0,1]])\n",
    "\n",
    "L2 = 0.0\n",
    "LR = 0.5\n",
    "\n",
    "losses = []\n",
    "for _ in range(200):\n",
    "    loss = mlp.loss(X,y,l2=L2)\n",
    "    losses.append(loss)\n",
    "    mlp.sgd_step(X,y, lr=LR, l2=L2)"
   ]
  },
  {
   "cell_type": "code",
   "execution_count": null,
   "id": "1d66414c",
   "metadata": {},
   "outputs": [
    {
     "data": {
      "text/plain": [
       "Text(0, 0.5, 'Loss')"
      ]
     },
     "execution_count": 25,
     "metadata": {},
     "output_type": "execute_result"
    },
    {
     "data": {
      "image/png": "[encoded data removed]",
      "text/plain": [
       "<Figure size 640x480 with 1 Axes>"
      ]
     },
     "metadata": {},
     "output_type": "display_data"
    }
   ],
   "source": [
    "import matplotlib.pyplot as plt\n",
    "plt.plot(losses)\n",
    "plt.title(\"Learning curve\")\n",
    "plt.xlabel(\"Iteration\")\n",
    "plt.ylabel(\"Loss\")\n"
   ]
  },
  {
   "cell_type": "code",
   "execution_count": 29,
   "id": "60208574",
   "metadata": {},
   "outputs": [
    {
     "data": {
      "text/plain": [
       "array([[0.98849299, 0.01150701],\n",
       "       [0.99214326, 0.00785674],\n",
       "       [0.0028644 , 0.9971356 ],\n",
       "       [0.00999406, 0.99000594]])"
      ]
     },
     "execution_count": 29,
     "metadata": {},
     "output_type": "execute_result"
    }
   ],
   "source": [
    "mlp.predict_proba(X)"
   ]
  },
  {
   "cell_type": "markdown",
   "id": "4c4e71be",
   "metadata": {},
   "source": [
    "### Additional\n",
    "\n",
    "- Finite difference check backprop\n",
    "- log-sum-exp trick (review)\n",
    "- Learn Rate finder - picks the largest LR before loss spikes, then train with +/- 1/3 of that and add decay.\n",
    "- Early flattening of the learning curve - L2 too high or a capacity issue.\n",
    "- No oscillation in the learning curve - LR isn't too high\n",
    "- Keeps falling past 0.1 -> not capacity limited. "
   ]
  },
  {
   "cell_type": "code",
   "execution_count": 12,
   "id": "02bf79a7",
   "metadata": {},
   "outputs": [
    {
     "ename": "NameError",
     "evalue": "name 'losses' is not defined",
     "output_type": "error",
     "traceback": [
      "\u001b[31m---------------------------------------------------------------------------\u001b[39m",
      "\u001b[31mNameError\u001b[39m                                 Traceback (most recent call last)",
      "\u001b[36mCell\u001b[39m\u001b[36m \u001b[39m\u001b[32mIn[12]\u001b[39m\u001b[32m, line 1\u001b[39m\n\u001b[32m----> \u001b[39m\u001b[32m1\u001b[39m plt.plot(\u001b[43mlosses\u001b[49m)\n\u001b[32m      2\u001b[39m plt.title(\u001b[33m\"\u001b[39m\u001b[33mTraining Loss\u001b[39m\u001b[33m\"\u001b[39m)\n\u001b[32m      3\u001b[39m plt.xlabel(\u001b[33m\"\u001b[39m\u001b[33mStep\u001b[39m\u001b[33m\"\u001b[39m)\n",
      "\u001b[31mNameError\u001b[39m: name 'losses' is not defined"
     ]
    }
   ],
   "source": [
    "plt.plot(losses)\n",
    "plt.title(\"Training Loss\")\n",
    "plt.xlabel(\"Step\")\n",
    "plt.ylabel(\"Loss\")\n",
    "\n"
   ]
  },
  {
   "cell_type": "code",
   "execution_count": null,
   "id": "c5e692c8",
   "metadata": {},
   "outputs": [],
   "source": []
  },
  {
   "cell_type": "code",
   "execution_count": null,
   "id": "265e0d0e",
   "metadata": {},
   "outputs": [],
   "source": []
  },
  {
   "cell_type": "code",
   "execution_count": null,
   "id": "8ca8d467",
   "metadata": {},
   "outputs": [],
   "source": []
  }
 ],
 "metadata": {
  "kernelspec": {
   "display_name": ".venv (3.13.5)",
   "language": "python",
   "name": "python3"
  },
  "language_info": {
   "codemirror_mode": {
    "name": "ipython",
    "version": 3
   },
   "file_extension": ".py",
   "mimetype": "text/x-python",
   "name": "python",
   "nbconvert_exporter": "python",
   "pygments_lexer": "ipython3",
   "version": "3.13.5"
  }
 },
 "nbformat": 4,
 "nbformat_minor": 5
}
