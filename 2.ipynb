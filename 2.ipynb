{
 "cells": [
  {
   "cell_type": "markdown",
   "id": "995f162e",
   "metadata": {},
   "source": [
    "# Day 2\n",
    "\n",
    "## Dataloader\n",
    "Desiderata:\n",
    "* Work with any dataset implementing __len__ and __getitem(i)\n",
    "* Deterministic shuffling. Reproducible via seed and per-epoch control, no data leakage\n",
    "* Batching controls: batch_size, drop_last\n",
    "* Collation: can stack NumPy arrays, recursibely handle tuples/lists/dicts.\n",
    "* Length semantics: len(dataloader) returns number of batches\n",
    "* Memory-friendly: no data copying\n",
    "* Composability: ? \n",
    "* Per-epoch reseeding\n",
    "* Clear errors: shape/length mismatches fail loudly\n",
    "* Samplers, prefetch..."
   ]
  },
  {
   "cell_type": "code",
   "execution_count": 8,
   "id": "595e5c7b",
   "metadata": {},
   "outputs": [],
   "source": [
    "from dataloader import Dataloader, DatasetProtocol\n",
    "import numpy as np\n",
    "from typing import List, Dict, Tuple"
   ]
  },
  {
   "cell_type": "code",
   "execution_count": 9,
   "id": "d1bddcd3",
   "metadata": {},
   "outputs": [
    {
     "name": "stdout",
     "output_type": "stream",
     "text": [
      "\n",
      "[Dataloader] Epoch 0\n",
      "[Dataloader]\n",
      "[Batch] X: \n",
      " [[12. 13.]\n",
      " [ 2.  3.]\n",
      " [ 0.  1.]\n",
      " [ 8.  9.]] \n",
      "[Batch] y:\n",
      " [1 0 0 1] \n",
      "\n",
      "[Dataloader]\n",
      "[Batch] X: \n",
      " [[10. 11.]\n",
      " [ 6.  7.]\n",
      " [14. 15.]\n",
      " [18. 19.]] \n",
      "[Batch] y:\n",
      " [1 1 1 1] \n",
      "\n",
      "[Dataloader]\n",
      "[Batch] X: \n",
      " [[16. 17.]\n",
      " [ 4.  5.]] \n",
      "[Batch] y:\n",
      " [1 0] \n",
      "\n",
      "\n",
      "[Dataloader] Epoch 1\n",
      "[Dataloader]\n",
      "[Batch] X: \n",
      " [[12. 13.]\n",
      " [18. 19.]\n",
      " [ 4.  5.]\n",
      " [10. 11.]] \n",
      "[Batch] y:\n",
      " [1 1 0 1] \n",
      "\n",
      "[Dataloader]\n",
      "[Batch] X: \n",
      " [[16. 17.]\n",
      " [ 6.  7.]\n",
      " [14. 15.]\n",
      " [ 0.  1.]] \n",
      "[Batch] y:\n",
      " [1 1 1 0] \n",
      "\n",
      "[Dataloader]\n",
      "[Batch] X: \n",
      " [[8. 9.]\n",
      " [2. 3.]] \n",
      "[Batch] y:\n",
      " [1 0] \n",
      "\n"
     ]
    }
   ],
   "source": [
    "class ArrayDataset(DatasetProtocol):\n",
    "    \"\"\"Simple dataset that wraps a numpy array.\"\"\"\n",
    "\n",
    "    def __init__(self, X: np.ndarray, y: np.ndarray): \n",
    "        if len(X) != len(y):\n",
    "            raise ValueError(\"X and y must have the same length.\")\n",
    "        self.X = X\n",
    "        self.y = y\n",
    "\n",
    "    def __len__(self) -> int: return len(self.X)\n",
    "    def __getitem__(self, i) -> Tuple[np.ndarray, np.ndarray]:\n",
    "        return (self.X[i], self.y[i])\n",
    "    \n",
    "X = np.arange(20).reshape(10, 2).astype(np.float32)\n",
    "y = (np.sum(X, axis=1) > 10).astype(np.int64)  # Binary classification\n",
    "\n",
    "ds = ArrayDataset(X, y)\n",
    "loader = Dataloader(ds, batch_size=4, shuffle=True, drop_last=False, seed=42)\n",
    "\n",
    "for epoch in range(2):\n",
    "    loader.set_epoch(epoch)\n",
    "    print(f\"\\n[Dataloader] Epoch {epoch}\")\n",
    "    for batch in loader: \n",
    "        xb, yb = batch\n",
    "        print(f\"[Dataloader]\\n[Batch] X: \\n {xb} \\n[Batch] y:\\n {yb} \\n\")\n",
    "\n"
   ]
  }
 ],
 "metadata": {
  "kernelspec": {
   "display_name": ".venv (3.13.5)",
   "language": "python",
   "name": "python3"
  },
  "language_info": {
   "codemirror_mode": {
    "name": "ipython",
    "version": 3
   },
   "file_extension": ".py",
   "mimetype": "text/x-python",
   "name": "python",
   "nbconvert_exporter": "python",
   "pygments_lexer": "ipython3",
   "version": "3.13.5"
  }
 },
 "nbformat": 4,
 "nbformat_minor": 5
}
