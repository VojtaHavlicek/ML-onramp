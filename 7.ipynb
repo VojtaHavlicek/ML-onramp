{
 "cells": [
  {
   "cell_type": "markdown",
   "id": "16501853",
   "metadata": {},
   "source": [
    "# Convolutional Nets"
   ]
  },
  {
   "cell_type": "code",
   "execution_count": null,
   "id": "9f80388f",
   "metadata": {},
   "outputs": [],
   "source": []
  }
 ],
 "metadata": {
  "language_info": {
   "name": "python"
  }
 },
 "nbformat": 4,
 "nbformat_minor": 5
}
