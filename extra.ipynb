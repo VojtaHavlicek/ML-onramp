{
 "cells": [
  {
   "cell_type": "markdown",
   "id": "db0c44b8",
   "metadata": {},
   "source": [
    "# Intermezzo\n",
    "## Gaussian Process Regression\n",
    "\n",
    "## Multivariante Adaptive Regression Splines (MARS)\n",
    "\n",
    "## Deep Learning\n",
    "Issues with generalization. "
   ]
  },
  {
   "cell_type": "markdown",
   "id": "d1d627cf",
   "metadata": {},
   "source": []
  }
 ],
 "metadata": {
  "language_info": {
   "name": "python"
  }
 },
 "nbformat": 4,
 "nbformat_minor": 5
}
