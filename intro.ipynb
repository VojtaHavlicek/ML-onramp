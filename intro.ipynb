{
 "cells": [
  {
   "cell_type": "markdown",
   "id": "9e027ea5",
   "metadata": {},
   "source": [
    "# Deep Learning On Ramp"
   ]
  },
  {
   "cell_type": "markdown",
   "id": "9f3080a5",
   "metadata": {},
   "source": []
  }
 ],
 "metadata": {
  "language_info": {
   "name": "python"
  }
 },
 "nbformat": 4,
 "nbformat_minor": 5
}
