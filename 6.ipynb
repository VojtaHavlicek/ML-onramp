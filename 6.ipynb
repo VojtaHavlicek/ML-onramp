{
 "cells": [
  {
   "cell_type": "markdown",
   "id": "dc7e01b9",
   "metadata": {},
   "source": [
    "# Day 6\n",
    "## Regularization and Normalization\n",
    "How do regularization layers interact with simple MLP? "
   ]
  },
  {
   "cell_type": "code",
   "execution_count": 1,
   "id": "431bd6a8",
   "metadata": {},
   "outputs": [],
   "source": [
    "import os\n",
    "import random\n",
    "\n",
    "import torch\n",
    "import torch.nn.functional as F  # noqa: N812\n",
    "from torch import nn\n",
    "from torch.utils.data import DataLoader\n",
    "from torchvision import datasets, transforms\n"
   ]
  },
  {
   "cell_type": "code",
   "execution_count": 2,
   "id": "693ef02c",
   "metadata": {},
   "outputs": [],
   "source": [
    "# ---- Configuration ----\n",
    "DATASET = datasets.FashionMNIST\n",
    "BATCH_SIZE = 256\n",
    "EPOCHS = 10\n",
    "LR = 2e-3\n",
    "WD = 1e-4\n",
    "H = 42\n",
    "COSINE_LR = True # Use cosine learning rate schedule\n",
    "NUM_WORKERS = 2\n",
    "\n",
    "from utils import set_seed\n",
    "set_seed()"
   ]
  },
  {
   "cell_type": "markdown",
   "id": "b5662a11",
   "metadata": {},
   "source": [
    "## Fashion MNIST data preprocessing\n",
    "\n",
    "**Fashion MNIST** stores pixel values as unsigned 8-bit integers in the range 0...255. Dividing by 255 converts this to floats in $[0,1]$. Necessary before mean/std normalization. "
   ]
  },
  {
   "cell_type": "code",
   "execution_count": 3,
   "id": "cb49da72",
   "metadata": {},
   "outputs": [
    {
     "name": "stdout",
     "output_type": "stream",
     "text": [
      "[Data] Mean: 0.28604060411453247, std: 0.3530242443084717\n",
      "[Data] Train size: 60000\n",
      "[Data] Test size: 10000\n"
     ]
    }
   ],
   "source": [
    "import pandas as pd\n",
    "\n",
    "raw_train = datasets.FashionMNIST(root=\"./data\", train=True,  download=True)\n",
    "data = raw_train.data.float().div_(255)\n",
    "mean = data.mean().item()\n",
    "std = data.std().item()\n",
    "\n",
    "transform = transforms.Compose([\n",
    "    transforms.ToTensor(),\n",
    "    transforms.Normalize((mean,), (std,))\n",
    "])\n",
    "\n",
    "# --- Reload datasets with transforms (standard) ---\n",
    "train_ds = datasets.FashionMNIST(root=\"./data\", train=True, download=True, transform=transform)\n",
    "test_ds  = datasets.FashionMNIST(root=\"./data\", train=False, download=True, transform=transform)\n",
    "\n",
    "# --- Data loaders ---\n",
    "train_loader = DataLoader(train_ds, batch_size=BATCH_SIZE, shuffle=True, num_workers=NUM_WORKERS, pin_memory=True)\n",
    "test_loader = DataLoader(test_ds, batch_size=BATCH_SIZE, shuffle=False, num_workers=NUM_WORKERS, pin_memory=True)\n",
    "\n",
    "print(f\"[Data] Mean: {mean}, std: {std}\")\n",
    "print(\"[Data] Train size:\", len(train_ds))\n",
    "print(\"[Data] Test size:\", len(test_ds))"
   ]
  },
  {
   "cell_type": "markdown",
   "id": "0b4c81c2",
   "metadata": {},
   "source": [
    "## Dropout"
   ]
  },
  {
   "cell_type": "code",
   "execution_count": 10,
   "id": "7633e841",
   "metadata": {},
   "outputs": [
    {
     "name": "stdout",
     "output_type": "stream",
     "text": [
      "\n",
      "\n",
      "[Experiment] Dropout probability: 0.0\n"
     ]
    },
    {
     "name": "stderr",
     "output_type": "stream",
     "text": [
      "/Users/vojtahavlicek/onramp/.venv/lib/python3.13/site-packages/torch/utils/data/dataloader.py:684: UserWarning: 'pin_memory' argument is set as true but not supported on MPS now, then device pinned memory won't be used.\n",
      "  warnings.warn(warn_msg)\n"
     ]
    },
    {
     "name": "stdout",
     "output_type": "stream",
     "text": [
      "[Training] Epoch  1/10 | Train loss: 0.4908, accuracy: 0.8213 | Test loss: 0.4043, accuracy: 0.8555 | Learning rate: 0.001951\n",
      "[Model] New best model saved with accuracy: 0.8555\n",
      "[Training] Epoch  2/10 | Train loss: 0.3496, accuracy: 0.8704 | Test loss: 0.3732, accuracy: 0.8644 | Learning rate: 0.001809\n",
      "[Model] New best model saved with accuracy: 0.8644\n",
      "[Training] Epoch  3/10 | Train loss: 0.3048, accuracy: 0.8872 | Test loss: 0.3632, accuracy: 0.8653 | Learning rate: 0.001588\n",
      "[Model] New best model saved with accuracy: 0.8653\n",
      "[Training] Epoch  4/10 | Train loss: 0.2762, accuracy: 0.8967 | Test loss: 0.3538, accuracy: 0.8729 | Learning rate: 0.001309\n",
      "[Model] New best model saved with accuracy: 0.8729\n",
      "[Training] Epoch  5/10 | Train loss: 0.2546, accuracy: 0.9050 | Test loss: 0.3352, accuracy: 0.8820 | Learning rate: 0.001000\n",
      "[Model] New best model saved with accuracy: 0.8820\n",
      "[Training] Epoch  6/10 | Train loss: 0.2298, accuracy: 0.9140 | Test loss: 0.3213, accuracy: 0.8857 | Learning rate: 0.000691\n",
      "[Model] New best model saved with accuracy: 0.8857\n",
      "[Training] Epoch  7/10 | Train loss: 0.2080, accuracy: 0.9215 | Test loss: 0.3103, accuracy: 0.8921 | Learning rate: 0.000412\n",
      "[Model] New best model saved with accuracy: 0.8921\n",
      "[Training] Epoch  8/10 | Train loss: 0.1878, accuracy: 0.9307 | Test loss: 0.3074, accuracy: 0.8947 | Learning rate: 0.000191\n",
      "[Model] New best model saved with accuracy: 0.8947\n",
      "[Training] Epoch  9/10 | Train loss: 0.1737, accuracy: 0.9368 | Test loss: 0.3052, accuracy: 0.8965 | Learning rate: 0.000049\n",
      "[Model] New best model saved with accuracy: 0.8965\n",
      "[Training] Epoch 10/10 | Train loss: 0.1648, accuracy: 0.9404 | Test loss: 0.3039, accuracy: 0.8967 | Learning rate: 0.000000\n",
      "[Model] New best model saved with accuracy: 0.8967\n",
      "\n",
      "\n",
      "[Experiment] Dropout probability: 0.2\n",
      "[Training] Epoch  1/10 | Train loss: 0.5317, accuracy: 0.8077 | Test loss: 0.4194, accuracy: 0.8463 | Learning rate: 0.001951\n",
      "[Model] New best model saved with accuracy: 0.8463\n",
      "[Training] Epoch  2/10 | Train loss: 0.3868, accuracy: 0.8589 | Test loss: 0.3776, accuracy: 0.8602 | Learning rate: 0.001809\n",
      "[Model] New best model saved with accuracy: 0.8602\n",
      "[Training] Epoch  3/10 | Train loss: 0.3476, accuracy: 0.8714 | Test loss: 0.3594, accuracy: 0.8676 | Learning rate: 0.001588\n",
      "[Model] New best model saved with accuracy: 0.8676\n",
      "[Training] Epoch  4/10 | Train loss: 0.3235, accuracy: 0.8798 | Test loss: 0.3565, accuracy: 0.8701 | Learning rate: 0.001309\n",
      "[Model] New best model saved with accuracy: 0.8701\n",
      "[Training] Epoch  5/10 | Train loss: 0.2979, accuracy: 0.8885 | Test loss: 0.3357, accuracy: 0.8804 | Learning rate: 0.001000\n",
      "[Model] New best model saved with accuracy: 0.8804\n",
      "[Training] Epoch  6/10 | Train loss: 0.2806, accuracy: 0.8960 | Test loss: 0.3248, accuracy: 0.8852 | Learning rate: 0.000691\n",
      "[Model] New best model saved with accuracy: 0.8852\n",
      "[Training] Epoch  7/10 | Train loss: 0.2598, accuracy: 0.9020 | Test loss: 0.3138, accuracy: 0.8886 | Learning rate: 0.000412\n",
      "[Model] New best model saved with accuracy: 0.8886\n",
      "[Training] Epoch  8/10 | Train loss: 0.2427, accuracy: 0.9087 | Test loss: 0.3083, accuracy: 0.8892 | Learning rate: 0.000191\n",
      "[Model] New best model saved with accuracy: 0.8892\n",
      "[Training] Epoch  9/10 | Train loss: 0.2317, accuracy: 0.9139 | Test loss: 0.3045, accuracy: 0.8914 | Learning rate: 0.000049\n",
      "[Model] New best model saved with accuracy: 0.8914\n",
      "[Training] Epoch 10/10 | Train loss: 0.2241, accuracy: 0.9156 | Test loss: 0.3026, accuracy: 0.8931 | Learning rate: 0.000000\n",
      "[Model] New best model saved with accuracy: 0.8931\n",
      "\n",
      "\n",
      "[Experiment] Dropout probability: 0.4\n",
      "[Training] Epoch  1/10 | Train loss: 0.5935, accuracy: 0.7840 | Test loss: 0.4282, accuracy: 0.8395 | Learning rate: 0.001951\n",
      "[Model] New best model saved with accuracy: 0.8395\n",
      "[Training] Epoch  2/10 | Train loss: 0.4402, accuracy: 0.8424 | Test loss: 0.4050, accuracy: 0.8526 | Learning rate: 0.001809\n",
      "[Model] New best model saved with accuracy: 0.8526\n",
      "[Training] Epoch  3/10 | Train loss: 0.3991, accuracy: 0.8558 | Test loss: 0.3809, accuracy: 0.8643 | Learning rate: 0.001588\n",
      "[Model] New best model saved with accuracy: 0.8643\n",
      "[Training] Epoch  4/10 | Train loss: 0.3758, accuracy: 0.8632 | Test loss: 0.3659, accuracy: 0.8672 | Learning rate: 0.001309\n",
      "[Model] New best model saved with accuracy: 0.8672\n",
      "[Training] Epoch  5/10 | Train loss: 0.3538, accuracy: 0.8713 | Test loss: 0.3521, accuracy: 0.8693 | Learning rate: 0.001000\n",
      "[Model] New best model saved with accuracy: 0.8693\n",
      "[Training] Epoch  6/10 | Train loss: 0.3288, accuracy: 0.8810 | Test loss: 0.3421, accuracy: 0.8742 | Learning rate: 0.000691\n",
      "[Model] New best model saved with accuracy: 0.8742\n",
      "[Training] Epoch  7/10 | Train loss: 0.3158, accuracy: 0.8846 | Test loss: 0.3311, accuracy: 0.8790 | Learning rate: 0.000412\n",
      "[Model] New best model saved with accuracy: 0.8790\n",
      "[Training] Epoch  8/10 | Train loss: 0.2968, accuracy: 0.8915 | Test loss: 0.3288, accuracy: 0.8838 | Learning rate: 0.000191\n",
      "[Model] New best model saved with accuracy: 0.8838\n",
      "[Training] Epoch  9/10 | Train loss: 0.2846, accuracy: 0.8961 | Test loss: 0.3224, accuracy: 0.8869 | Learning rate: 0.000049\n",
      "[Model] New best model saved with accuracy: 0.8869\n",
      "[Training] Epoch 10/10 | Train loss: 0.2789, accuracy: 0.8980 | Test loss: 0.3202, accuracy: 0.8866 | Learning rate: 0.000000\n",
      "\n",
      "\n",
      "[Experiment] Dropout probability: 0.6\n",
      "[Training] Epoch  1/10 | Train loss: 0.7172, accuracy: 0.7416 | Test loss: 0.4581, accuracy: 0.8298 | Learning rate: 0.001951\n",
      "[Model] New best model saved with accuracy: 0.8298\n",
      "[Training] Epoch  2/10 | Train loss: 0.5308, accuracy: 0.8155 | Test loss: 0.4330, accuracy: 0.8392 | Learning rate: 0.001809\n",
      "[Model] New best model saved with accuracy: 0.8392\n",
      "[Training] Epoch  3/10 | Train loss: 0.4968, accuracy: 0.8274 | Test loss: 0.4103, accuracy: 0.8517 | Learning rate: 0.001588\n",
      "[Model] New best model saved with accuracy: 0.8517\n",
      "[Training] Epoch  4/10 | Train loss: 0.4697, accuracy: 0.8377 | Test loss: 0.3994, accuracy: 0.8534 | Learning rate: 0.001309\n",
      "[Model] New best model saved with accuracy: 0.8534\n",
      "[Training] Epoch  5/10 | Train loss: 0.4391, accuracy: 0.8457 | Test loss: 0.3913, accuracy: 0.8596 | Learning rate: 0.001000\n",
      "[Model] New best model saved with accuracy: 0.8596\n",
      "[Training] Epoch  6/10 | Train loss: 0.4172, accuracy: 0.8536 | Test loss: 0.3752, accuracy: 0.8636 | Learning rate: 0.000691\n",
      "[Model] New best model saved with accuracy: 0.8636\n",
      "[Training] Epoch  7/10 | Train loss: 0.3977, accuracy: 0.8608 | Test loss: 0.3642, accuracy: 0.8706 | Learning rate: 0.000412\n",
      "[Model] New best model saved with accuracy: 0.8706\n",
      "[Training] Epoch  8/10 | Train loss: 0.3809, accuracy: 0.8662 | Test loss: 0.3610, accuracy: 0.8703 | Learning rate: 0.000191\n",
      "[Training] Epoch  9/10 | Train loss: 0.3670, accuracy: 0.8704 | Test loss: 0.3577, accuracy: 0.8712 | Learning rate: 0.000049\n",
      "[Model] New best model saved with accuracy: 0.8712\n",
      "[Training] Epoch 10/10 | Train loss: 0.3644, accuracy: 0.8714 | Test loss: 0.3552, accuracy: 0.8725 | Learning rate: 0.000000\n",
      "[Model] New best model saved with accuracy: 0.8725\n",
      "\n",
      "\n",
      "[Experiment] Dropout probability: 0.8\n",
      "[Training] Epoch  1/10 | Train loss: 1.0903, accuracy: 0.5898 | Test loss: 0.6176, accuracy: 0.7694 | Learning rate: 0.001951\n",
      "[Model] New best model saved with accuracy: 0.7694\n",
      "[Training] Epoch  2/10 | Train loss: 0.8110, accuracy: 0.7011 | Test loss: 0.5677, accuracy: 0.7932 | Learning rate: 0.001809\n",
      "[Model] New best model saved with accuracy: 0.7932\n",
      "[Training] Epoch  3/10 | Train loss: 0.7534, accuracy: 0.7259 | Test loss: 0.5323, accuracy: 0.8047 | Learning rate: 0.001588\n",
      "[Model] New best model saved with accuracy: 0.8047\n",
      "[Training] Epoch  4/10 | Train loss: 0.7200, accuracy: 0.7389 | Test loss: 0.5184, accuracy: 0.8114 | Learning rate: 0.001309\n",
      "[Model] New best model saved with accuracy: 0.8114\n",
      "[Training] Epoch  5/10 | Train loss: 0.6906, accuracy: 0.7527 | Test loss: 0.5024, accuracy: 0.8189 | Learning rate: 0.001000\n",
      "[Model] New best model saved with accuracy: 0.8189\n",
      "[Training] Epoch  6/10 | Train loss: 0.6649, accuracy: 0.7638 | Test loss: 0.4880, accuracy: 0.8197 | Learning rate: 0.000691\n",
      "[Model] New best model saved with accuracy: 0.8197\n",
      "[Training] Epoch  7/10 | Train loss: 0.6383, accuracy: 0.7726 | Test loss: 0.4795, accuracy: 0.8277 | Learning rate: 0.000412\n",
      "[Model] New best model saved with accuracy: 0.8277\n",
      "[Training] Epoch  8/10 | Train loss: 0.6183, accuracy: 0.7818 | Test loss: 0.4739, accuracy: 0.8344 | Learning rate: 0.000191\n",
      "[Model] New best model saved with accuracy: 0.8344\n",
      "[Training] Epoch  9/10 | Train loss: 0.6038, accuracy: 0.7865 | Test loss: 0.4663, accuracy: 0.8330 | Learning rate: 0.000049\n",
      "[Training] Epoch 10/10 | Train loss: 0.5974, accuracy: 0.7851 | Test loss: 0.4665, accuracy: 0.8336 | Learning rate: 0.000000\n"
     ]
    }
   ],
   "source": [
    "from nets_numpy import MLP\n",
    "from constants import DEVICE\n",
    "from utils import train_epoch, evaluate\n",
    "\n",
    "dropouts = [0.0, 0.2, 0.4, 0.6, 0.8]\n",
    "accuracies = {} # dropout -> list of accuracies\n",
    "\n",
    "for droupout_probability in dropouts:\n",
    "    print(f\"\\n\\n[Experiment] Dropout probability: {droupout_probability}\")\n",
    "\n",
    "    model = MLP(droupout_probability=droupout_probability,\n",
    "                use_batchnorm=False).to(device=DEVICE)\n",
    "\n",
    "    # --- Optimizer ---\n",
    "    loss = nn.CrossEntropyLoss()\n",
    "    optimizer = torch.optim.AdamW(model.parameters(), lr=LR, weight_decay=WD)\n",
    "    scheduler = torch.optim.lr_scheduler.CosineAnnealingLR(optimizer, T_max=EPOCHS) if COSINE_LR else None\n",
    "\n",
    "    # --- Training ---\n",
    "    best_accuracy = 0.0\n",
    "    epochs = 10\n",
    "\n",
    "    for epoch in range(1, epochs + 1):\n",
    "        train_loss, train_accuracy = train_epoch(model, train_loader, optimizer, loss)\n",
    "        test_loss, test_accuracy = evaluate(model, test_loader, loss)\n",
    "\n",
    "        if scheduler: scheduler.step()\n",
    "\n",
    "        print(f\"[Training] Epoch {epoch:2d}/{epochs} | \"\n",
    "          f\"Train loss: {train_loss:.4f}, accuracy: {train_accuracy:.4f} | \"\n",
    "          f\"Test loss: {test_loss:.4f}, accuracy: {test_accuracy:.4f} | \"\n",
    "          f\"Learning rate: {optimizer.param_groups[0]['lr']:.6f}\")\n",
    "\n",
    "        accuracies.setdefault(droupout_probability, []).append(test_accuracy)\n",
    "\n",
    "        if test_accuracy > best_accuracy:\n",
    "            best_accuracy = test_accuracy\n",
    "            torch.save(model.state_dict(), f\"fashion_mnist_mlp_best_dropout_{droupout_probability}.pth\")\n",
    "            print(f\"[Model] New best model saved with accuracy: {best_accuracy:.4f}\")"
   ]
  },
  {
   "cell_type": "code",
   "execution_count": 11,
   "id": "96a63ca9",
   "metadata": {},
   "outputs": [
    {
     "name": "stdout",
     "output_type": "stream",
     "text": [
      "Dropout: 0.0, Accuracies: [0.8555, 0.8644, 0.8653, 0.8729, 0.882, 0.8857, 0.8921, 0.8947, 0.8965, 0.8967]\n",
      "Dropout: 0.2, Accuracies: [0.8463, 0.8602, 0.8676, 0.8701, 0.8804, 0.8852, 0.8886, 0.8892, 0.8914, 0.8931]\n",
      "Dropout: 0.4, Accuracies: [0.8395, 0.8526, 0.8643, 0.8672, 0.8693, 0.8742, 0.879, 0.8838, 0.8869, 0.8866]\n",
      "Dropout: 0.6, Accuracies: [0.8298, 0.8392, 0.8517, 0.8534, 0.8596, 0.8636, 0.8706, 0.8703, 0.8712, 0.8725]\n",
      "Dropout: 0.8, Accuracies: [0.7694, 0.7932, 0.8047, 0.8114, 0.8189, 0.8197, 0.8277, 0.8344, 0.833, 0.8336]\n"
     ]
    },
    {
     "data": {
      "text/plain": [
       "Text(0.5, 1.0, 'Dropout effect on FashionMNIST')"
      ]
     },
     "execution_count": 11,
     "metadata": {},
     "output_type": "execute_result"
    },
    {
     "data": {
      "image/png": "[encoded data removed]",
      "text/plain": [
       "<Figure size 640x480 with 1 Axes>"
      ]
     },
     "metadata": {},
     "output_type": "display_data"
    }
   ],
   "source": [
    "import matplotlib.pyplot as plt\n",
    "\n",
    "for k, test_accuracies in accuracies.items():\n",
    "    print(f\"Dropout: {k}, Accuracies: {test_accuracies}\")\n",
    "\n",
    "    plt.plot(range(1, len(test_accuracies) + 1), test_accuracies, label=f\"Dropout {k}\")\n",
    "\n",
    "\n",
    "plt.legend()\n",
    "plt.xlabel(\"Epoch\")\n",
    "plt.ylabel(\"Test accuracy\")\n",
    "plt.title(\"Dropout effect on FashionMNIST\")\n",
    "\n",
    "\n",
    "\n",
    "#accuracies"
   ]
  },
  {
   "cell_type": "markdown",
   "id": "8dfc73fb",
   "metadata": {},
   "source": [
    "## Batchnorm"
   ]
  },
  {
   "cell_type": "markdown",
   "id": "1295b099",
   "metadata": {},
   "source": [
    "## Visualisation "
   ]
  },
  {
   "cell_type": "markdown",
   "id": "8b66d3a0",
   "metadata": {},
   "source": [
    "+ Visualisation of loss landscape, similar to https://blog.janestreet.com/visualizing-piecewise-linear-neural-networks/? \n",
    "+ https://blog.janestreet.com/visualizing-information-propagation-in-markets-index/"
   ]
  },
  {
   "cell_type": "markdown",
   "id": "ad25220e",
   "metadata": {},
   "source": []
  }
 ],
 "metadata": {
  "kernelspec": {
   "display_name": ".venv (3.13.5)",
   "language": "python",
   "name": "python3"
  },
  "language_info": {
   "codemirror_mode": {
    "name": "ipython",
    "version": 3
   },
   "file_extension": ".py",
   "mimetype": "text/x-python",
   "name": "python",
   "nbconvert_exporter": "python",
   "pygments_lexer": "ipython3",
   "version": "3.13.5"
  }
 },
 "nbformat": 4,
 "nbformat_minor": 5
}
