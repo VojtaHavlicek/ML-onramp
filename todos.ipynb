{
 "cells": [
  {
   "cell_type": "markdown",
   "id": "75a52da8",
   "metadata": {},
   "source": [
    "# TODO\n",
    "- JaneStreet Kaggle comps\n",
    "- Deep-Q learning for Atari games -> breakout? \n",
    "            -> Code up breakout\n",
    "            -> Reinforcement learning? "
   ]
  },
  {
   "cell_type": "markdown",
   "id": "279b0e58",
   "metadata": {},
   "source": []
  }
 ],
 "metadata": {
  "language_info": {
   "name": "python"
  }
 },
 "nbformat": 4,
 "nbformat_minor": 5
}
