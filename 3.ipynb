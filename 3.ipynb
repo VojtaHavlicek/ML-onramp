{
 "cells": [
  {
   "cell_type": "markdown",
   "id": "49b82f28",
   "metadata": {},
   "source": [
    "# Day 3\n",
    "## Optimizers\n",
    "- implement SGD, Momentum (with Nesterov trick), AdamW"
   ]
  },
  {
   "cell_type": "markdown",
   "id": "26f3bb52",
   "metadata": {},
   "source": [
    "## Optimizers\n",
    "\n",
    "### SGD\n",
    "At each training step, given parameters $\\theta$ (weights), gradient $g = \\nabla_\\theta L(\\theta)$ and a learning rate $\\eta$, take: \n",
    "$$ \\theta \\leftarrow \\theta - \\eta g $$\n",
    "\n",
    "**Real implementation:** \n",
    "* learning rate schedule (allow lr to decay over epochs)\n",
    "* momentum: accumulate a velocity term to accelerate convergence\n",
    "* Nesterov momentum: \"look ahead\" before aplying momentum\n",
    "* weight decay\n",
    "* clipping \n",
    "* batching \n",
    "\n",
    "### Momentum \n",
    "\n",
    "Momentum beats on problems with strong curvature anisotropy (ravines/ill conditioning) or saddle-heavy landscapes.\n",
    "\n",
    "### AdamW\n",
    "AdamW"
   ]
  },
  {
   "cell_type": "code",
   "execution_count": 1,
   "id": "97b38408",
   "metadata": {},
   "outputs": [],
   "source": [
    "from optimizers.sgd import SGD\n",
    "from optimizers.momentum import Momentum\n",
    "from optimizers.adamw import AdamW"
   ]
  },
  {
   "cell_type": "code",
   "execution_count": null,
   "id": "6bbe2574",
   "metadata": {},
   "outputs": [],
   "source": [
    "## Comparison"
   ]
  },
  {
   "cell_type": "code",
   "execution_count": null,
   "id": "8b0aee7e",
   "metadata": {},
   "outputs": [],
   "source": [
    "from copy import deepcopy\n",
    "import numpy as np\n",
    "import matplotlib.pyplot as plt\n",
    "\n",
    "def rosenbrock(xy):\n",
    "    x,y = xy\n",
    "    return (1-x)**2 + 100*(y - x**2)**2\n",
    "\n",
    "def rosen_grad(xy):\n",
    "    x,y = xy\n",
    "    dfdx = -2*(1-x) - 400*x*(y - x**2)\n",
    "    dfdy = 200*(y - x**2)\n",
    "    return np.array([dfdx, dfdy])\n",
    "\n",
    "def run_optimizer(opt, x0, grad_fn, max_steps=10000, tol=1e-6):\n",
    "    \"\"\"Run the optimizer on the Rosenbrock function.\n",
    "\n",
    "    Args:\n",
    "        opt: Optimizer instance (e.g., SGD, MomentumSGD).\n",
    "        x0: Initial point as a numpy array.\n",
    "        grad_fn: Gradient function to compute gradients.\n",
    "        max_steps: Maximum number of optimization steps.\n",
    "        tol: Tolerance for stopping criterion.\n",
    "\n",
    "    Returns:\n",
    "        int: Number of steps taken until convergence or max_steps reached.\n",
    "\n",
    "    \"\"\"\n",
    "    loss = []\n",
    "    x = opt.params[0][\"value\"]\n",
    "    x[:] = x0\n",
    "    for t in range(max_steps):\n",
    "        g = grad_fn(x)\n",
    "        opt.params[0][\"grad\"][:] = g\n",
    "        opt.step()\n",
    "        opt.zero_grad()\n",
    "        loss.append(rosenbrock(x))\n",
    "        if np.linalg.norm(g) < tol:\n",
    "            return t+1\n",
    "    return loss\n",
    "\n",
    "# Example: Rosenbrock\n",
    "x_param = {\"value\": np.array([-1.2, 1.0], dtype=float), \"grad\": np.zeros(2)}\n",
    "loss_sgd = run_optimizer(SGD([x_param.copy()], lr=1e-3), np.array([-1.2,1.0]), rosen_grad)\n",
    "loss_momentum = run_optimizer(Momentum([x_param.copy()], lr=1e-3, momentum=0.9), np.array([-1.2,1.0]), rosen_grad)"
   ]
  },
  {
   "cell_type": "code",
   "execution_count": null,
   "id": "57acc2d8",
   "metadata": {},
   "outputs": [],
   "source": [
    "fig, ax = plt.subplots()\n",
    "ax.plot(loss_sgd, label=\"SGD\")\n",
    "ax.plot(loss_momentum, label=\"Momentum\")\n",
    "ax.set_xlabel(\"Epoch\")\n",
    "ax.set_ylabel(\"Loss\")\n",
    "ax.set_title(\"SGD vs Momentum Loss\")\n",
    "ax.legend()\n",
    "ax.set_ylim(-1,10)"
   ]
  },
  {
   "cell_type": "markdown",
   "id": "90f4ab62",
   "metadata": {},
   "source": [
    "### Synth Dataset + decision boundary"
   ]
  },
  {
   "cell_type": "code",
   "execution_count": null,
   "id": "8d1edcba",
   "metadata": {},
   "outputs": [],
   "source": [
    "from sklearn.datasets import make_moons\n",
    "\n",
    "X_moons, y_moons = make_moons(n_samples=1000, noise=0.1, random_state=42)\n",
    "fig, ax = plt.subplots()\n",
    "ax.scatter(X_moons[:, 0], X_moons[:, 1], c=y_moons, cmap='coolwarm', s=10)\n",
    "ax.set_title(\"Synthetic Moons Dataset\")"
   ]
  },
  {
   "cell_type": "code",
   "execution_count": 2,
   "id": "9fe0e598",
   "metadata": {},
   "outputs": [
    {
     "ename": "NameError",
     "evalue": "name 'MLP' is not defined",
     "output_type": "error",
     "traceback": [
      "\u001b[31m---------------------------------------------------------------------------\u001b[39m",
      "\u001b[31mNameError\u001b[39m                                 Traceback (most recent call last)",
      "\u001b[36mCell\u001b[39m\u001b[36m \u001b[39m\u001b[32mIn[2]\u001b[39m\u001b[32m, line 1\u001b[39m\n\u001b[32m----> \u001b[39m\u001b[32m1\u001b[39m MLP_moons = \u001b[43mMLP\u001b[49m(D=\u001b[32m2\u001b[39m, H=\u001b[32m10\u001b[39m, C=\u001b[32m2\u001b[39m, seed=\u001b[32m42\u001b[39m)\n\u001b[32m      2\u001b[39m ds_moons = ArrayDataset(X_moons, y_moons)\n\u001b[32m      3\u001b[39m loader_moons = Dataloader(ds_moons, batch_size=\u001b[32m32\u001b[39m, shuffle=\u001b[38;5;28;01mTrue\u001b[39;00m, drop_last=\u001b[38;5;28;01mTrue\u001b[39;00m, seed=\u001b[32m42\u001b[39m)\n",
      "\u001b[31mNameError\u001b[39m: name 'MLP' is not defined"
     ]
    }
   ],
   "source": [
    "MLP_moons = MLP(D=2, H=10, C=2, seed=42)\n",
    "ds_moons = ArrayDataset(X_moons, y_moons)\n",
    "loader_moons = Dataloader(ds_moons, batch_size=32, shuffle=True, drop_last=True, seed=42)"
   ]
  },
  {
   "cell_type": "code",
   "execution_count": null,
   "id": "296c1c33",
   "metadata": {},
   "outputs": [],
   "source": [
    "num_classes = 2\n",
    "\n",
    "def to_one_hot(y, num_classes):\n",
    "    # y: (B,) integer labels\n",
    "    oh = np.zeros((y.shape[0], num_classes), dtype=np.float32)\n",
    "    oh[np.arange(y.shape[0]), y.astype(int)] = 1.0\n",
    "    return oh\n",
    "\n",
    "\n",
    "for epoch in range(5000):\n",
    "    loader_moons.set_epoch(epoch)\n",
    "\n",
    "    epoch_loss = 0.0\n",
    "    n_examples = 0\n",
    "    #print(f\"\\n[Epoch {epoch}]\")\n",
    "\n",
    "\n",
    "    for xb, yb in loader_moons:\n",
    "        # Ensure shapes/dtypes are what your MLP expects\n",
    "        if yb.ndim == 1 or yb.shape[-1] == 1:        # likely indices\n",
    "            yb_oh = to_one_hot(yb.reshape(-1), num_classes)\n",
    "        else:\n",
    "            yb_oh = yb                                # already one-hot\n",
    "        loss = MLP_moons.sgd_step(xb, yb_oh, lr=0.01, l2=0.0)  # make sure loss is mean over the batch\n",
    "        batch_size = xb.shape[0]\n",
    "        epoch_loss += loss * batch_size                # accumulate by sample count\n",
    "        n_examples += batch_size\n",
    "\n",
    "    #print(f\"[Epoch {epoch}] loss={epoch_loss / n_examples:.4f}\")\n",
    "    #    print(f\"Loss: {loss:.4f}\")\n",
    "\n",
    "print(f\"Final loss: {epoch_loss / n_examples:.4f}\")\n"
   ]
  },
  {
   "cell_type": "code",
   "execution_count": 3,
   "id": "db5fc008",
   "metadata": {},
   "outputs": [],
   "source": [
    "import numpy as np\n",
    "import matplotlib.pyplot as plt\n",
    "\n",
    "def plot_decision_boundary(model, X, y, ax=None, padding=0.5, resolution=400, cmap=\"coolwarm\"):\n",
    "    \"\"\"\n",
    "    Plots decision regions for a 2D dataset.\n",
    "    - model must implement .predict(X) -> (N,) class indices\n",
    "      (or .predict_proba(X) returning probs; we’ll argmax them).\n",
    "    - X: (N, 2) features\n",
    "    - y: (N,) class indices OR (N, C) one-hot\n",
    "    \"\"\"\n",
    "    X = np.asarray(X)\n",
    "    assert X.shape[1] == 2, \"This helper expects 2D inputs.\"\n",
    "    if y.ndim == 2:\n",
    "        y_plot = y.argmax(axis=1)\n",
    "    else:\n",
    "        y_plot = y\n",
    "\n",
    "    # grid limits\n",
    "    x_min, x_max = X[:,0].min() - padding, X[:,0].max() + padding\n",
    "    y_min, y_max = X[:,1].min() - padding, X[:,1].max() + padding\n",
    "\n",
    "    # meshgrid\n",
    "    xx, yy = np.meshgrid(\n",
    "        np.linspace(x_min, x_max, resolution),\n",
    "        np.linspace(y_min, y_max, resolution)\n",
    "    )\n",
    "    grid = np.c_[xx.ravel(), yy.ravel()]\n",
    "\n",
    "    # predict on grid\n",
    "    try:\n",
    "        Z = model.predict(grid)                 # preferred (already argmaxed)\n",
    "    except Exception:\n",
    "        Z = model.predict_proba(grid).argmax(1) # fallback if only proba exists\n",
    "    Z = Z.reshape(xx.shape)\n",
    "\n",
    "    # plot\n",
    "    if ax is None:\n",
    "        fig, ax = plt.subplots(figsize=(6,5))\n",
    "\n",
    "    # background decision regions\n",
    "    im = ax.contourf(xx, yy, Z, levels=np.unique(Z).size, alpha=0.3, antialiased=True)\n",
    "\n",
    "    # decision boundary lines (optional, looks nice)\n",
    "    ax.contour(xx, yy, Z, levels=np.unique(Z), linewidths=1.0, colors='k', alpha=0.4)\n",
    "\n",
    "    # scatter training data\n",
    "    scatter = ax.scatter(X[:,0], X[:,1], c=y_plot, s=25, edgecolor='k', linewidth=0.4, cmap=cmap)\n",
    "\n",
    "    ax.set_xlabel(\"x1\")\n",
    "    ax.set_ylabel(\"x2\")\n",
    "    ax.set_title(\"Decision boundary\")\n",
    "    ax.set_xlim(x_min, x_max)\n",
    "    ax.set_ylim(y_min, y_max)\n",
    "\n",
    "    # legend-like handles for classes (optional)\n",
    "    # If\n"
   ]
  },
  {
   "cell_type": "code",
   "execution_count": 4,
   "id": "557779c4",
   "metadata": {},
   "outputs": [
    {
     "ename": "NameError",
     "evalue": "name 'MLP_moons' is not defined",
     "output_type": "error",
     "traceback": [
      "\u001b[31m---------------------------------------------------------------------------\u001b[39m",
      "\u001b[31mNameError\u001b[39m                                 Traceback (most recent call last)",
      "\u001b[36mCell\u001b[39m\u001b[36m \u001b[39m\u001b[32mIn[4]\u001b[39m\u001b[32m, line 2\u001b[39m\n\u001b[32m      1\u001b[39m fig, ax = plt.subplots(figsize=(\u001b[32m6\u001b[39m,\u001b[32m5\u001b[39m))\n\u001b[32m----> \u001b[39m\u001b[32m2\u001b[39m plot_decision_boundary(\u001b[43mMLP_moons\u001b[49m, X_moons, y_moons, ax=ax, padding=\u001b[32m0.5\u001b[39m, resolution=\u001b[32m400\u001b[39m)\n\u001b[32m      3\u001b[39m plt.show()\n",
      "\u001b[31mNameError\u001b[39m: name 'MLP_moons' is not defined"
     ]
    },
    {
     "data": {
      "image/png": "[encoded data removed]",
      "text/plain": [
       "<Figure size 600x500 with 1 Axes>"
      ]
     },
     "metadata": {},
     "output_type": "display_data"
    }
   ],
   "source": [
    "fig, ax = plt.subplots(figsize=(6,5))\n",
    "plot_decision_boundary(MLP_moons, X_moons, y_moons, ax=ax, padding=0.5, resolution=400)\n",
    "plt.show()"
   ]
  },
  {
   "cell_type": "code",
   "execution_count": null,
   "id": "23621ad4",
   "metadata": {},
   "outputs": [],
   "source": []
  }
 ],
 "metadata": {
  "kernelspec": {
   "display_name": ".venv (3.13.5)",
   "language": "python",
   "name": "python3"
  },
  "language_info": {
   "codemirror_mode": {
    "name": "ipython",
    "version": 3
   },
   "file_extension": ".py",
   "mimetype": "text/x-python",
   "name": "python",
   "nbconvert_exporter": "python",
   "pygments_lexer": "ipython3",
   "version": "3.13.5"
  }
 },
 "nbformat": 4,
 "nbformat_minor": 5
}
